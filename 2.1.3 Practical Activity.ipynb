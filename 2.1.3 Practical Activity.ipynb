{
 "cells": [
  {
   "cell_type": "code",
   "execution_count": 5,
   "id": "e3536f0e",
   "metadata": {},
   "outputs": [
    {
     "name": "stdout",
     "output_type": "stream",
     "text": [
      "Law Enforcement               123\n",
      "Fire and Rescue Services      224\n",
      "Emergency Medical Services    101\n",
      "Emergency Management          999\n",
      "Public Works                  900\n",
      "dtype: object\n"
     ]
    }
   ],
   "source": [
    "import pandas as pd\n",
    "\n",
    "dict_1 = {'Law Enforcement':'123',\n",
    "          'Fire and Rescue Services': '224',\n",
    "          'Emergency Medical Services': '101',\n",
    "          'Emergency Management': '999',\n",
    "          'Public Works': '900'}\n",
    "\n",
    "emergency_numbers = pd.Series(dict_1)\n",
    "\n",
    "# [4] Print the Series.\n",
    "print(emergency_numbers)"
   ]
  },
  {
   "cell_type": "code",
   "execution_count": 2,
   "id": "fef8699d",
   "metadata": {},
   "outputs": [
    {
     "name": "stdout",
     "output_type": "stream",
     "text": [
      "0      Prevention\n",
      "1      Mitigation\n",
      "2    Preparedness\n",
      "3        Response\n",
      "4        Recovery\n",
      "dtype: object\n"
     ]
    }
   ],
   "source": [
    "emergency_protocols = ['Prevention', 'Mitigation', 'Preparedness', 'Response', 'Recovery']\n",
    "  \n",
    "protocols = pd.Series(emergency_protocols)\n",
    "\n",
    "print(protocols)"
   ]
  },
  {
   "cell_type": "code",
   "execution_count": 3,
   "id": "b22bb059",
   "metadata": {},
   "outputs": [
    {
     "name": "stdout",
     "output_type": "stream",
     "text": [
      "0          Check carotid pulse (neck)\n",
      "1                    Breathing (nose)\n",
      "2    Obstructions (nose, ears, mouth)\n",
      "3                 Pupils (responsive)\n",
      "4                       Consciousness\n",
      "5                     Contact details\n",
      "6                           Allergies\n",
      "dtype: object\n"
     ]
    }
   ],
   "source": [
    "emergency_checklist = ['Check carotid pulse (neck)', 'Breathing (nose)', 'Obstructions (nose, ears, mouth)',\n",
    "                       'Pupils (responsive)', 'Consciousness', 'Contact details', 'Allergies']\n",
    "  \n",
    "checklist = pd.Series(emergency_checklist)\n",
    "\n",
    "print(checklist)"
   ]
  },
  {
   "cell_type": "code",
   "execution_count": null,
   "id": "f30508e5",
   "metadata": {},
   "outputs": [],
   "source": []
  }
 ],
 "metadata": {
  "kernelspec": {
   "display_name": "Python 3 (ipykernel)",
   "language": "python",
   "name": "python3"
  },
  "language_info": {
   "codemirror_mode": {
    "name": "ipython",
    "version": 3
   },
   "file_extension": ".py",
   "mimetype": "text/x-python",
   "name": "python",
   "nbconvert_exporter": "python",
   "pygments_lexer": "ipython3",
   "version": "3.9.7"
  }
 },
 "nbformat": 4,
 "nbformat_minor": 5
}
