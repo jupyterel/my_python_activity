{
 "cells": [
  {
   "cell_type": "code",
   "execution_count": 1,
   "id": "0bcdf931",
   "metadata": {},
   "outputs": [
    {
     "name": "stdout",
     "output_type": "stream",
     "text": [
      "My name is Dr Eleonora Bacchi\n",
      "The date is 3/6/2022\n"
     ]
    }
   ],
   "source": [
    "# this is my first line of code\n",
    "\n",
    "print(\"My name is Dr Eleonora Bacchi\")\n",
    "print(\"The date is 3/6/2022\")"
   ]
  },
  {
   "cell_type": "code",
   "execution_count": 5,
   "id": "23521f5d",
   "metadata": {},
   "outputs": [
    {
     "name": "stdout",
     "output_type": "stream",
     "text": [
      "182900\n"
     ]
    }
   ],
   "source": [
    "# Write a program to analyse real estate data\n",
    "\n",
    "a = 45000\n",
    "b = 23400\n",
    "c = 67000\n",
    "d = 34600\n",
    "e = 12900\n",
    "\n",
    "# Total sales for December\n",
    "\n",
    "tot_sales = a + b + c + d + e\n",
    "print(tot_sales)"
   ]
  },
  {
   "cell_type": "code",
   "execution_count": 7,
   "id": "6ac34466",
   "metadata": {},
   "outputs": [
    {
     "name": "stdout",
     "output_type": "stream",
     "text": [
      "36580.0\n"
     ]
    }
   ],
   "source": [
    "# Average sales price\n",
    "\n",
    "avg_sales = tot_sales / 5\n",
    "\n",
    "print(avg_sales)"
   ]
  },
  {
   "cell_type": "code",
   "execution_count": 8,
   "id": "24665795",
   "metadata": {},
   "outputs": [
    {
     "name": "stdout",
     "output_type": "stream",
     "text": [
      "60500\n"
     ]
    }
   ],
   "source": [
    "# C price\n",
    "\n",
    "c_price = 67000 - 6500\n",
    "\n",
    "print(c_price)"
   ]
  },
  {
   "cell_type": "code",
   "execution_count": null,
   "id": "7e193620",
   "metadata": {},
   "outputs": [],
   "source": []
  }
 ],
 "metadata": {
  "kernelspec": {
   "display_name": "Python 3 (ipykernel)",
   "language": "python",
   "name": "python3"
  },
  "language_info": {
   "codemirror_mode": {
    "name": "ipython",
    "version": 3
   },
   "file_extension": ".py",
   "mimetype": "text/x-python",
   "name": "python",
   "nbconvert_exporter": "python",
   "pygments_lexer": "ipython3",
   "version": "3.9.7"
  }
 },
 "nbformat": 4,
 "nbformat_minor": 5
}
