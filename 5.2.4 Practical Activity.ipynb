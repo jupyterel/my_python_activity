{
 "cells": [
  {
   "cell_type": "markdown",
   "id": "a1133b06",
   "metadata": {},
   "source": [
    "# 5.2.4 Practical Activity"
   ]
  },
  {
   "cell_type": "markdown",
   "id": "6802a07f",
   "metadata": {},
   "source": [
    "Bitcoin Price Index"
   ]
  },
  {
   "cell_type": "code",
   "execution_count": 43,
   "id": "fc5cd51d",
   "metadata": {},
   "outputs": [],
   "source": [
    "# Import the necessary libraries.\n",
    "\n",
    "import pandas as pd\n",
    "import requests\n",
    "import json\n",
    "import bs4\n",
    "from bs4 import BeautifulSoup"
   ]
  },
  {
   "cell_type": "code",
   "execution_count": 44,
   "id": "994cb6ff",
   "metadata": {},
   "outputs": [
    {
     "name": "stdout",
     "output_type": "stream",
     "text": [
      "200\n",
      "{'time': {'updated': 'Jul 1, 2022 16:47:00 UTC', 'updatedISO': '2022-07-01T16:47:00+00:00', 'updateduk': 'Jul 1, 2022 at 17:47 BST'}, 'disclaimer': 'This data was produced from the CoinDesk Bitcoin Price Index (USD). Non-USD currency data converted using hourly conversion rate from openexchangerates.org', 'chartName': 'Bitcoin', 'bpi': {'USD': {'code': 'USD', 'symbol': '&#36;', 'rate': '19,363.9787', 'description': 'United States Dollar', 'rate_float': 19363.9787}, 'GBP': {'code': 'GBP', 'symbol': '&pound;', 'rate': '15,977.7610', 'description': 'British Pound Sterling', 'rate_float': 15977.761}, 'EUR': {'code': 'EUR', 'symbol': '&euro;', 'rate': '18,523.2916', 'description': 'Euro', 'rate_float': 18523.2916}}}\n"
     ]
    }
   ],
   "source": [
    "# Establish a connection with the API.\n",
    "URL = 'https://api.coindesk.com/v1/bpi/currentprice.json'\n",
    "\n",
    "# Send connect request.\n",
    "response = requests.get(url=URL)\n",
    "\n",
    "# Print the status_code of the GET request.\n",
    "# Print the status_code.\n",
    "print(response.status_code)\n",
    "\n",
    "# Print the JSON response.\n",
    "print(response.json())"
   ]
  },
  {
   "cell_type": "code",
   "execution_count": 45,
   "id": "11efa31f",
   "metadata": {},
   "outputs": [
    {
     "name": "stdout",
     "output_type": "stream",
     "text": [
      "{'Content-Type': 'application/javascript', 'Content-Length': '676', 'Connection': 'keep-alive', 'Access-Control-Allow-Origin': '*', 'Cache-Control': 'max-age=15', 'Date': 'Fri, 01 Jul 2022 16:47:42 GMT', 'Expires': 'Fri, 01 Jul 2022 16:48:07 UTC', 'Server': 'nginx/1.18.0', 'X-Powered-By': 'Fat-Free Framework', 'X-Cache': 'Hit from cloudfront', 'Via': '1.1 2fe8f7f5aca4ab098dc7bad8e97a06dc.cloudfront.net (CloudFront)', 'X-Amz-Cf-Pop': 'LHR50-P1', 'X-Amz-Cf-Id': 'JCLbsngEYkNjyJ3ZT9FVHkiD7cwgtPRucy_wux4BGZmW5XKSHmDMPw==', 'Age': '4'}\n"
     ]
    }
   ],
   "source": [
    "# Retrieve the headers of the API.\n",
    "# Write if and else statements to get information and status_code.\n",
    "\n",
    "if response.status_code == 200:\n",
    "    print(response.headers)\n",
    "else:\n",
    "    print(response.status_code)\n",
    "    response.headers['Content-Encoding']"
   ]
  },
  {
   "cell_type": "code",
   "execution_count": 48,
   "id": "0e517fd3",
   "metadata": {},
   "outputs": [
    {
     "name": "stdout",
     "output_type": "stream",
     "text": [
      "<class 'dict'>\n"
     ]
    },
    {
     "data": {
      "text/plain": [
       "{'time': {'updated': 'Jul 1, 2022 16:47:00 UTC',\n",
       "  'updatedISO': '2022-07-01T16:47:00+00:00',\n",
       "  'updateduk': 'Jul 1, 2022 at 17:47 BST'},\n",
       " 'disclaimer': 'This data was produced from the CoinDesk Bitcoin Price Index (USD). Non-USD currency data converted using hourly conversion rate from openexchangerates.org',\n",
       " 'chartName': 'Bitcoin',\n",
       " 'bpi': {'USD': {'code': 'USD',\n",
       "   'symbol': '&#36;',\n",
       "   'rate': '19,363.9787',\n",
       "   'description': 'United States Dollar',\n",
       "   'rate_float': 19363.9787},\n",
       "  'GBP': {'code': 'GBP',\n",
       "   'symbol': '&pound;',\n",
       "   'rate': '15,977.7610',\n",
       "   'description': 'British Pound Sterling',\n",
       "   'rate_float': 15977.761},\n",
       "  'EUR': {'code': 'EUR',\n",
       "   'symbol': '&euro;',\n",
       "   'rate': '18,523.2916',\n",
       "   'description': 'Euro',\n",
       "   'rate_float': 18523.2916}}}"
      ]
     },
     "execution_count": 48,
     "metadata": {},
     "output_type": "execute_result"
    }
   ],
   "source": [
    "# Parse JSON data with loads().\n",
    "content = json.loads(response.text)\n",
    "\n",
    "# View the type and JSON feedback.\n",
    "print(type(content))\n",
    "content"
   ]
  },
  {
   "cell_type": "code",
   "execution_count": 47,
   "id": "6427c11d",
   "metadata": {},
   "outputs": [
    {
     "name": "stdout",
     "output_type": "stream",
     "text": [
      "{\n",
      "    \"time\": {\n",
      "        \"updated\": \"Jul 1, 2022 16:47:00 UTC\",\n",
      "        \"updatedISO\": \"2022-07-01T16:47:00+00:00\",\n",
      "        \"updateduk\": \"Jul 1, 2022 at 17:47 BST\"\n",
      "    },\n",
      "    \"disclaimer\": \"This data was produced from the CoinDesk Bitcoin Price Index (USD). Non-USD currency data converted using hourly conversion rate from openexchangerates.org\",\n",
      "    \"chartName\": \"Bitcoin\",\n",
      "    \"bpi\": {\n",
      "        \"USD\": {\n",
      "            \"code\": \"USD\",\n",
      "            \"symbol\": \"&#36;\",\n",
      "            \"rate\": \"19,363.9787\",\n",
      "            \"description\": \"United States Dollar\",\n",
      "            \"rate_float\": 19363.9787\n",
      "        },\n",
      "        \"GBP\": {\n",
      "            \"code\": \"GBP\",\n",
      "            \"symbol\": \"&pound;\",\n",
      "            \"rate\": \"15,977.7610\",\n",
      "            \"description\": \"British Pound Sterling\",\n",
      "            \"rate_float\": 15977.761\n",
      "        },\n",
      "        \"EUR\": {\n",
      "            \"code\": \"EUR\",\n",
      "            \"symbol\": \"&euro;\",\n",
      "            \"rate\": \"18,523.2916\",\n",
      "            \"description\": \"Euro\",\n",
      "            \"rate_float\": 18523.2916\n",
      "        }\n",
      "    }\n",
      "}\n"
     ]
    }
   ],
   "source": [
    "# Format the JSON output with an indent of 4.\n",
    "\n",
    "# Formatting JSON.\n",
    "print(json.dumps(content, indent=4))"
   ]
  },
  {
   "cell_type": "code",
   "execution_count": 27,
   "id": "be979439",
   "metadata": {},
   "outputs": [
    {
     "data": {
      "text/html": [
       "<div>\n",
       "<style scoped>\n",
       "    .dataframe tbody tr th:only-of-type {\n",
       "        vertical-align: middle;\n",
       "    }\n",
       "\n",
       "    .dataframe tbody tr th {\n",
       "        vertical-align: top;\n",
       "    }\n",
       "\n",
       "    .dataframe thead th {\n",
       "        text-align: right;\n",
       "    }\n",
       "</style>\n",
       "<table border=\"1\" class=\"dataframe\">\n",
       "  <thead>\n",
       "    <tr style=\"text-align: right;\">\n",
       "      <th></th>\n",
       "      <th>time</th>\n",
       "      <th>disclaimer</th>\n",
       "      <th>chartName</th>\n",
       "      <th>bpi</th>\n",
       "    </tr>\n",
       "  </thead>\n",
       "  <tbody>\n",
       "    <tr>\n",
       "      <th>updated</th>\n",
       "      <td>Jul 1, 2022 16:13:00 UTC</td>\n",
       "      <td>This data was produced from the CoinDesk Bitco...</td>\n",
       "      <td>Bitcoin</td>\n",
       "      <td>NaN</td>\n",
       "    </tr>\n",
       "    <tr>\n",
       "      <th>updatedISO</th>\n",
       "      <td>2022-07-01T16:13:00+00:00</td>\n",
       "      <td>This data was produced from the CoinDesk Bitco...</td>\n",
       "      <td>Bitcoin</td>\n",
       "      <td>NaN</td>\n",
       "    </tr>\n",
       "    <tr>\n",
       "      <th>updateduk</th>\n",
       "      <td>Jul 1, 2022 at 17:13 BST</td>\n",
       "      <td>This data was produced from the CoinDesk Bitco...</td>\n",
       "      <td>Bitcoin</td>\n",
       "      <td>NaN</td>\n",
       "    </tr>\n",
       "    <tr>\n",
       "      <th>USD</th>\n",
       "      <td>NaN</td>\n",
       "      <td>This data was produced from the CoinDesk Bitco...</td>\n",
       "      <td>Bitcoin</td>\n",
       "      <td>{'code': 'USD', 'symbol': '&amp;#36;', 'rate': '19...</td>\n",
       "    </tr>\n",
       "    <tr>\n",
       "      <th>GBP</th>\n",
       "      <td>NaN</td>\n",
       "      <td>This data was produced from the CoinDesk Bitco...</td>\n",
       "      <td>Bitcoin</td>\n",
       "      <td>{'code': 'GBP', 'symbol': '&amp;pound;', 'rate': '...</td>\n",
       "    </tr>\n",
       "  </tbody>\n",
       "</table>\n",
       "</div>"
      ],
      "text/plain": [
       "                                 time  \\\n",
       "updated      Jul 1, 2022 16:13:00 UTC   \n",
       "updatedISO  2022-07-01T16:13:00+00:00   \n",
       "updateduk    Jul 1, 2022 at 17:13 BST   \n",
       "USD                               NaN   \n",
       "GBP                               NaN   \n",
       "\n",
       "                                                   disclaimer chartName  \\\n",
       "updated     This data was produced from the CoinDesk Bitco...   Bitcoin   \n",
       "updatedISO  This data was produced from the CoinDesk Bitco...   Bitcoin   \n",
       "updateduk   This data was produced from the CoinDesk Bitco...   Bitcoin   \n",
       "USD         This data was produced from the CoinDesk Bitco...   Bitcoin   \n",
       "GBP         This data was produced from the CoinDesk Bitco...   Bitcoin   \n",
       "\n",
       "                                                          bpi  \n",
       "updated                                                   NaN  \n",
       "updatedISO                                                NaN  \n",
       "updateduk                                                 NaN  \n",
       "USD         {'code': 'USD', 'symbol': '&#36;', 'rate': '19...  \n",
       "GBP         {'code': 'GBP', 'symbol': '&pound;', 'rate': '...  "
      ]
     },
     "execution_count": 27,
     "metadata": {},
     "output_type": "execute_result"
    }
   ],
   "source": [
    "# Create a Pandas DataFrame directly from the output.\n",
    "\n",
    "bitcoin = pd.DataFrame(content)\n",
    "\n",
    "# View the DataFrame.\n",
    "bitcoin.head()"
   ]
  },
  {
   "cell_type": "code",
   "execution_count": 49,
   "id": "486ccbb4",
   "metadata": {},
   "outputs": [],
   "source": [
    "# Save the JSON output as a CSV and JSON file.\n",
    "\n",
    "bitcoin.to_csv('bitcoin.csv', index=False)"
   ]
  },
  {
   "cell_type": "code",
   "execution_count": 50,
   "id": "ea014378",
   "metadata": {},
   "outputs": [
    {
     "data": {
      "text/plain": [
       "'{\"time\": {\"updated\": \"Jul 1, 2022 16:47:00 UTC\", \"updatedISO\": \"2022-07-01T16:47:00+00:00\", \"updateduk\": \"Jul 1, 2022 at 17:47 BST\"}, \"disclaimer\": \"This data was produced from the CoinDesk Bitcoin Price Index (USD). Non-USD currency data converted using hourly conversion rate from openexchangerates.org\", \"chartName\": \"Bitcoin\", \"bpi\": {\"USD\": {\"code\": \"USD\", \"symbol\": \"&#36;\", \"rate\": \"19,363.9787\", \"description\": \"United States Dollar\", \"rate_float\": 19363.9787}, \"GBP\": {\"code\": \"GBP\", \"symbol\": \"&pound;\", \"rate\": \"15,977.7610\", \"description\": \"British Pound Sterling\", \"rate_float\": 15977.761}, \"EUR\": {\"code\": \"EUR\", \"symbol\": \"&euro;\", \"rate\": \"18,523.2916\", \"description\": \"Euro\", \"rate_float\": 18523.2916}}}'"
      ]
     },
     "execution_count": 50,
     "metadata": {},
     "output_type": "execute_result"
    }
   ],
   "source": [
    "# Create a JSON file.\n",
    "content_json = json.dumps(content)\n",
    "\n",
    "# View the output.\n",
    "content_json"
   ]
  },
  {
   "cell_type": "code",
   "execution_count": 51,
   "id": "879ccd79",
   "metadata": {},
   "outputs": [],
   "source": [
    "# Read json using Pandas, output to .csv.\n",
    "pd.read_json(content_json).to_csv('bitcoin.csv', index=False)\n",
    "\n",
    "# Save the JSON file to .json.\n",
    "with open('bitcoin.json', 'w') as f:\n",
    "    json.dump(content, f)"
   ]
  },
  {
   "cell_type": "markdown",
   "id": "d341d6f3",
   "metadata": {},
   "source": [
    "USA Population Data"
   ]
  },
  {
   "cell_type": "code",
   "execution_count": 32,
   "id": "9a375b02",
   "metadata": {},
   "outputs": [
    {
     "name": "stdout",
     "output_type": "stream",
     "text": [
      "200\n",
      "{'data': [{'ID Nation': '01000US', 'Nation': 'United States', 'ID Year': 2019, 'Year': '2019', 'Population': 328239523, 'Slug Nation': 'united-states'}, {'ID Nation': '01000US', 'Nation': 'United States', 'ID Year': 2018, 'Year': '2018', 'Population': 327167439, 'Slug Nation': 'united-states'}, {'ID Nation': '01000US', 'Nation': 'United States', 'ID Year': 2017, 'Year': '2017', 'Population': 325719178, 'Slug Nation': 'united-states'}, {'ID Nation': '01000US', 'Nation': 'United States', 'ID Year': 2016, 'Year': '2016', 'Population': 323127515, 'Slug Nation': 'united-states'}, {'ID Nation': '01000US', 'Nation': 'United States', 'ID Year': 2015, 'Year': '2015', 'Population': 321418821, 'Slug Nation': 'united-states'}, {'ID Nation': '01000US', 'Nation': 'United States', 'ID Year': 2014, 'Year': '2014', 'Population': 318857056, 'Slug Nation': 'united-states'}, {'ID Nation': '01000US', 'Nation': 'United States', 'ID Year': 2013, 'Year': '2013', 'Population': 316128839, 'Slug Nation': 'united-states'}], 'source': [{'measures': ['Population'], 'annotations': {'source_name': 'Census Bureau', 'source_description': 'The American Community Survey (ACS) is conducted by the US Census and sent to a portion of the population every year.', 'dataset_name': 'ACS 1-year Estimate', 'dataset_link': 'http://www.census.gov/programs-surveys/acs/', 'table_id': 'B01003', 'topic': 'Diversity', 'subtopic': 'Demographics'}, 'name': 'acs_yg_total_population_1', 'substitutions': []}]}\n"
     ]
    }
   ],
   "source": [
    "# Establish a connection with the API.\n",
    "URL = 'https://datausa.io/api/data?drilldowns=Nation&measures=Population'\n",
    "\n",
    "# Send connect request.\n",
    "response1 = requests.get(url=URL)\n",
    "\n",
    "# Print the status_code of the GET request.\n",
    "# Print the status_code.\n",
    "print(response1.status_code)\n",
    "\n",
    "# Print the JSON response.\n",
    "print(response1.json())"
   ]
  },
  {
   "cell_type": "code",
   "execution_count": 33,
   "id": "32a72a5a",
   "metadata": {},
   "outputs": [
    {
     "name": "stdout",
     "output_type": "stream",
     "text": [
      "{'Date': 'Fri, 01 Jul 2022 16:30:42 GMT', 'Content-Type': 'application/json; charset=utf-8', 'Transfer-Encoding': 'chunked', 'Connection': 'keep-alive', 'x-dns-prefetch-control': 'off', 'strict-transport-security': 'max-age=15552000; includeSubDomains', 'x-download-options': 'noopen', 'x-content-type-options': 'nosniff', 'x-xss-protection': '1; mode=block', 'content-language': 'en', 'etag': 'W/\"55b-jEIUyvQphH/gM3DVlQl2pEdoLeo\"', 'vary': 'Accept-Encoding', 'last-modified': 'Mon, 02 May 2022 17:25:47 GMT', 'x-cache-status': 'HIT', 'x-frame-options': 'SAMEORIGIN', 'access-control-allow-origin': '*', 'access-control-allow-credentials': 'true', 'access-control-allow-methods': 'GET, POST, OPTIONS', 'access-control-allow-headers': 'DNT,X-CustomHeader,Keep-Alive,User-Agent,X-Requested-With,If-Modified-Since,Cache-Control,Content-Type', 'x-cache-key': 'GET/api/data?drilldowns=Nation&measures=Population', 'Cache-Control': 'max-age=1800', 'CF-Cache-Status': 'HIT', 'Age': '340221', 'Expect-CT': 'max-age=604800, report-uri=\"https://report-uri.cloudflare.com/cdn-cgi/beacon/expect-ct\"', 'Report-To': '{\"endpoints\":[{\"url\":\"https:\\\\/\\\\/a.nel.cloudflare.com\\\\/report\\\\/v3?s=1VFc42SBh%2FgHCQPUZNQ3aB2Fz2SE%2FvK1cBv09%2Fnewf%2FHe7zDETAxY43F3zVnncDI4tRDTvLioogvyJ9xoun2JdXAQqt%2BKIH6x3MW1nv9C62g%2FMC9PrOeNJ%2FNDGY%3D\"}],\"group\":\"cf-nel\",\"max_age\":604800}', 'NEL': '{\"success_fraction\":0,\"report_to\":\"cf-nel\",\"max_age\":604800}', 'Server': 'cloudflare', 'CF-RAY': '7240871d3b218e21-LHR', 'Content-Encoding': 'br'}\n"
     ]
    }
   ],
   "source": [
    "# Retrieve the headers of the API.\n",
    "# Write if and else statements to get information and status_code.\n",
    "\n",
    "if response1.status_code == 200:\n",
    "    print(response1.headers)\n",
    "else:\n",
    "    print(response1.status_code)\n",
    "    response1.headers['Content-Encoding']"
   ]
  },
  {
   "cell_type": "code",
   "execution_count": 54,
   "id": "3928b865",
   "metadata": {},
   "outputs": [
    {
     "name": "stdout",
     "output_type": "stream",
     "text": [
      "<class 'dict'>\n",
      "{'data': [{'ID Nation': '01000US', 'Nation': 'United States', 'ID Year': 2019, 'Year': '2019', 'Population': 328239523, 'Slug Nation': 'united-states'}, {'ID Nation': '01000US', 'Nation': 'United States', 'ID Year': 2018, 'Year': '2018', 'Population': 327167439, 'Slug Nation': 'united-states'}, {'ID Nation': '01000US', 'Nation': 'United States', 'ID Year': 2017, 'Year': '2017', 'Population': 325719178, 'Slug Nation': 'united-states'}, {'ID Nation': '01000US', 'Nation': 'United States', 'ID Year': 2016, 'Year': '2016', 'Population': 323127515, 'Slug Nation': 'united-states'}, {'ID Nation': '01000US', 'Nation': 'United States', 'ID Year': 2015, 'Year': '2015', 'Population': 321418821, 'Slug Nation': 'united-states'}, {'ID Nation': '01000US', 'Nation': 'United States', 'ID Year': 2014, 'Year': '2014', 'Population': 318857056, 'Slug Nation': 'united-states'}, {'ID Nation': '01000US', 'Nation': 'United States', 'ID Year': 2013, 'Year': '2013', 'Population': 316128839, 'Slug Nation': 'united-states'}], 'source': [{'measures': ['Population'], 'annotations': {'source_name': 'Census Bureau', 'source_description': 'The American Community Survey (ACS) is conducted by the US Census and sent to a portion of the population every year.', 'dataset_name': 'ACS 1-year Estimate', 'dataset_link': 'http://www.census.gov/programs-surveys/acs/', 'table_id': 'B01003', 'topic': 'Diversity', 'subtopic': 'Demographics'}, 'name': 'acs_yg_total_population_1', 'substitutions': []}]}\n"
     ]
    }
   ],
   "source": [
    "# Parse JSON data with loads().\n",
    "content1 = json.loads(response1.text)\n",
    "\n",
    "# View the type and JSON feedback.\n",
    "print(type(content1))\n",
    "print(content1)"
   ]
  },
  {
   "cell_type": "code",
   "execution_count": 41,
   "id": "3d20a205",
   "metadata": {},
   "outputs": [
    {
     "name": "stdout",
     "output_type": "stream",
     "text": [
      "{\n",
      "    \"data\": [\n",
      "        {\n",
      "            \"ID Nation\": \"01000US\",\n",
      "            \"Nation\": \"United States\",\n",
      "            \"ID Year\": 2019,\n",
      "            \"Year\": \"2019\",\n",
      "            \"Population\": 328239523,\n",
      "            \"Slug Nation\": \"united-states\"\n",
      "        },\n",
      "        {\n",
      "            \"ID Nation\": \"01000US\",\n",
      "            \"Nation\": \"United States\",\n",
      "            \"ID Year\": 2018,\n",
      "            \"Year\": \"2018\",\n",
      "            \"Population\": 327167439,\n",
      "            \"Slug Nation\": \"united-states\"\n",
      "        },\n",
      "        {\n",
      "            \"ID Nation\": \"01000US\",\n",
      "            \"Nation\": \"United States\",\n",
      "            \"ID Year\": 2017,\n",
      "            \"Year\": \"2017\",\n",
      "            \"Population\": 325719178,\n",
      "            \"Slug Nation\": \"united-states\"\n",
      "        },\n",
      "        {\n",
      "            \"ID Nation\": \"01000US\",\n",
      "            \"Nation\": \"United States\",\n",
      "            \"ID Year\": 2016,\n",
      "            \"Year\": \"2016\",\n",
      "            \"Population\": 323127515,\n",
      "            \"Slug Nation\": \"united-states\"\n",
      "        },\n",
      "        {\n",
      "            \"ID Nation\": \"01000US\",\n",
      "            \"Nation\": \"United States\",\n",
      "            \"ID Year\": 2015,\n",
      "            \"Year\": \"2015\",\n",
      "            \"Population\": 321418821,\n",
      "            \"Slug Nation\": \"united-states\"\n",
      "        },\n",
      "        {\n",
      "            \"ID Nation\": \"01000US\",\n",
      "            \"Nation\": \"United States\",\n",
      "            \"ID Year\": 2014,\n",
      "            \"Year\": \"2014\",\n",
      "            \"Population\": 318857056,\n",
      "            \"Slug Nation\": \"united-states\"\n",
      "        },\n",
      "        {\n",
      "            \"ID Nation\": \"01000US\",\n",
      "            \"Nation\": \"United States\",\n",
      "            \"ID Year\": 2013,\n",
      "            \"Year\": \"2013\",\n",
      "            \"Population\": 316128839,\n",
      "            \"Slug Nation\": \"united-states\"\n",
      "        }\n",
      "    ],\n",
      "    \"source\": [\n",
      "        {\n",
      "            \"measures\": [\n",
      "                \"Population\"\n",
      "            ],\n",
      "            \"annotations\": {\n",
      "                \"source_name\": \"Census Bureau\",\n",
      "                \"source_description\": \"The American Community Survey (ACS) is conducted by the US Census and sent to a portion of the population every year.\",\n",
      "                \"dataset_name\": \"ACS 1-year Estimate\",\n",
      "                \"dataset_link\": \"http://www.census.gov/programs-surveys/acs/\",\n",
      "                \"table_id\": \"B01003\",\n",
      "                \"topic\": \"Diversity\",\n",
      "                \"subtopic\": \"Demographics\"\n",
      "            },\n",
      "            \"name\": \"acs_yg_total_population_1\",\n",
      "            \"substitutions\": []\n",
      "        }\n",
      "    ]\n",
      "}\n"
     ]
    }
   ],
   "source": [
    "# Format the JSON output with an indent of 4.\n",
    "\n",
    "# Formatting JSON.\n",
    "print(json.dumps(content1, indent=4))"
   ]
  },
  {
   "cell_type": "code",
   "execution_count": null,
   "id": "c9a8af45",
   "metadata": {},
   "outputs": [],
   "source": []
  }
 ],
 "metadata": {
  "kernelspec": {
   "display_name": "Python 3 (ipykernel)",
   "language": "python",
   "name": "python3"
  },
  "language_info": {
   "codemirror_mode": {
    "name": "ipython",
    "version": 3
   },
   "file_extension": ".py",
   "mimetype": "text/x-python",
   "name": "python",
   "nbconvert_exporter": "python",
   "pygments_lexer": "ipython3",
   "version": "3.9.7"
  }
 },
 "nbformat": 4,
 "nbformat_minor": 5
}
